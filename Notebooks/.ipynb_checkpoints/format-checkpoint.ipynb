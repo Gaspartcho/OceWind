{
 "cells": [
  {
   "cell_type": "code",
   "execution_count": 1,
   "id": "4712bb7f-88c1-4076-a56c-f68d5725f928",
   "metadata": {},
   "outputs": [],
   "source": [
    "using YAXArrays\n",
    "using DimensionalData\n",
    "using NetCDF"
   ]
  },
  {
   "cell_type": "code",
   "execution_count": 2,
   "id": "d5ac0f43-0647-45b1-9f72-613a2e73d57b",
   "metadata": {},
   "outputs": [
    {
     "data": {
      "text/plain": [
       "\"/home/gaspard/Documents/Ecole/BX S2/Stage/OceWind/results/data/ocean_wind_mixing_and_convection2542.nc\""
      ]
     },
     "execution_count": 2,
     "metadata": {},
     "output_type": "execute_result"
    }
   ],
   "source": [
    "filename = \"/home/gaspard/Documents/Ecole/BX S2/Stage/OceWind/results/data/ocean_wind_mixing_and_convection2542.nc\""
   ]
  },
  {
   "cell_type": "code",
   "execution_count": 3,
   "id": "72d32c7b-9883-44ba-97b2-73b85c8205ba",
   "metadata": {},
   "outputs": [
    {
     "data": {
      "text/plain": [
       "YAXArray Dataset\n",
       "Shared Axes: \n",
       "\u001b[38;5;209m↓ \u001b[39m\u001b[38;5;209mTi\u001b[39m Sampled{Float64} \u001b[38;5;209m[0.0, 60.0, …, 3540.0, 3600.0]\u001b[39m \u001b[38;5;244mForwardOrdered\u001b[39m \u001b[38;5;244mIrregular\u001b[39m \u001b[38;5;244mPoints\u001b[39m\n",
       "Variables: \n",
       "\n",
       "T\n",
       "  \u001b[38;5;209m↓ \u001b[39m\u001b[38;5;209mxC\u001b[39m Sampled{Float64} \u001b[38;5;209m0.5:1.0:127.5\u001b[39m \u001b[38;5;244mForwardOrdered\u001b[39m \u001b[38;5;244mRegular\u001b[39m \u001b[38;5;244mPoints\u001b[39m,\n",
       "  \u001b[38;5;32m→ \u001b[39m\u001b[38;5;32myC\u001b[39m Sampled{Float64} \u001b[38;5;32m0.5:1.0:127.5\u001b[39m \u001b[38;5;244mForwardOrdered\u001b[39m \u001b[38;5;244mRegular\u001b[39m \u001b[38;5;244mPoints\u001b[39m,\n",
       "  \u001b[38;5;81m↗ \u001b[39m\u001b[38;5;81mzC\u001b[39m Sampled{Float64} \u001b[38;5;81m-127.5:1.0:-0.5\u001b[39m \u001b[38;5;244mForwardOrdered\u001b[39m \u001b[38;5;244mRegular\u001b[39m \u001b[38;5;244mPoints\u001b[39m\n",
       "P\n",
       "  \u001b[38;5;209m↓ \u001b[39m\u001b[38;5;209mxC\u001b[39m Sampled{Float64} \u001b[38;5;209m0.5:1.0:127.5\u001b[39m \u001b[38;5;244mForwardOrdered\u001b[39m \u001b[38;5;244mRegular\u001b[39m \u001b[38;5;244mPoints\u001b[39m,\n",
       "  \u001b[38;5;32m→ \u001b[39m\u001b[38;5;32myC\u001b[39m Sampled{Float64} \u001b[38;5;32m0.5:1.0:127.5\u001b[39m \u001b[38;5;244mForwardOrdered\u001b[39m \u001b[38;5;244mRegular\u001b[39m \u001b[38;5;244mPoints\u001b[39m,\n",
       "  \u001b[38;5;81m↗ \u001b[39m\u001b[38;5;81mzC\u001b[39m Sampled{Float64} \u001b[38;5;81m-127.5:1.0:-0.5\u001b[39m \u001b[38;5;244mForwardOrdered\u001b[39m \u001b[38;5;244mRegular\u001b[39m \u001b[38;5;244mPoints\u001b[39m\n",
       "v\n",
       "  \u001b[38;5;209m↓ \u001b[39m\u001b[38;5;209mxC\u001b[39m Sampled{Float64} \u001b[38;5;209m0.5:1.0:127.5\u001b[39m \u001b[38;5;244mForwardOrdered\u001b[39m \u001b[38;5;244mRegular\u001b[39m \u001b[38;5;244mPoints\u001b[39m,\n",
       "  \u001b[38;5;32m→ \u001b[39m\u001b[38;5;32myF\u001b[39m Sampled{Float64} \u001b[38;5;32m0.0:1.0:127.0\u001b[39m \u001b[38;5;244mForwardOrdered\u001b[39m \u001b[38;5;244mRegular\u001b[39m \u001b[38;5;244mPoints\u001b[39m,\n",
       "  \u001b[38;5;81m↗ \u001b[39m\u001b[38;5;81mzC\u001b[39m Sampled{Float64} \u001b[38;5;81m-127.5:1.0:-0.5\u001b[39m \u001b[38;5;244mForwardOrdered\u001b[39m \u001b[38;5;244mRegular\u001b[39m \u001b[38;5;244mPoints\u001b[39m\n",
       "w\n",
       "  \u001b[38;5;209m↓ \u001b[39m\u001b[38;5;209mxC\u001b[39m Sampled{Float64} \u001b[38;5;209m0.5:1.0:127.5\u001b[39m \u001b[38;5;244mForwardOrdered\u001b[39m \u001b[38;5;244mRegular\u001b[39m \u001b[38;5;244mPoints\u001b[39m,\n",
       "  \u001b[38;5;32m→ \u001b[39m\u001b[38;5;32myC\u001b[39m Sampled{Float64} \u001b[38;5;32m0.5:1.0:127.5\u001b[39m \u001b[38;5;244mForwardOrdered\u001b[39m \u001b[38;5;244mRegular\u001b[39m \u001b[38;5;244mPoints\u001b[39m,\n",
       "  \u001b[38;5;81m↗ \u001b[39m\u001b[38;5;81mzF\u001b[39m Sampled{Float64} \u001b[38;5;81m-128.0:1.0:0.0\u001b[39m \u001b[38;5;244mForwardOrdered\u001b[39m \u001b[38;5;244mRegular\u001b[39m \u001b[38;5;244mPoints\u001b[39m\n",
       "u\n",
       "  \u001b[38;5;209m↓ \u001b[39m\u001b[38;5;209mxF\u001b[39m Sampled{Float64} \u001b[38;5;209m0.0:1.0:127.0\u001b[39m \u001b[38;5;244mForwardOrdered\u001b[39m \u001b[38;5;244mRegular\u001b[39m \u001b[38;5;244mPoints\u001b[39m,\n",
       "  \u001b[38;5;32m→ \u001b[39m\u001b[38;5;32myC\u001b[39m Sampled{Float64} \u001b[38;5;32m0.5:1.0:127.5\u001b[39m \u001b[38;5;244mForwardOrdered\u001b[39m \u001b[38;5;244mRegular\u001b[39m \u001b[38;5;244mPoints\u001b[39m,\n",
       "  \u001b[38;5;81m↗ \u001b[39m\u001b[38;5;81mzC\u001b[39m Sampled{Float64} \u001b[38;5;81m-127.5:1.0:-0.5\u001b[39m \u001b[38;5;244mForwardOrdered\u001b[39m \u001b[38;5;244mRegular\u001b[39m \u001b[38;5;244mPoints\u001b[39m\n",
       "Properties: Dict{String, Any}(\"interval\" => 60.0, \"Oceananigans\" => \"This file was generated using Oceananigans v0.91.4\", \"Julia\" => \"This file was generated using Julia Version 1.10.4\\nCommit 48d4fd48430 (2024-06-04 10:41 UTC)\\nBuild Info:\\n  Official https://julialang.org/ release\\nPlatform Info:\\n  OS: Linux (x86_64-linux-gnu)\\n  CPU: 8 Ã\\u97 Intel(R) Core(TM) i7-7700HQ CPU @ 2.80GHz\\n  WORD_SIZE: 64\\n  LIBM: libopenlibm\\n  LLVM: libLLVM-15.0.7 (ORCJIT, skylake)\\nThreads: 1 default, 0 interactive, 1 GC (on 8 virtual cores)\\n  GPU: NVIDIA GeForce GTX 1050 Ti\\n\", \"output time interval\" => \"Output was saved every 1 minute.\", \"date\" => \"This file was generated on 2024-07-22T15:15:06.048.\", \"schedule\" => \"TimeInterval\")\n"
      ]
     },
     "execution_count": 3,
     "metadata": {},
     "output_type": "execute_result"
    }
   ],
   "source": [
    "ds = open_dataset(filename, driver=:netcdf)"
   ]
  },
  {
   "cell_type": "code",
   "execution_count": 4,
   "id": "14e484a1-3ef1-4250-8d4a-2e96c563cfe6",
   "metadata": {},
   "outputs": [
    {
     "data": {
      "text/plain": [
       "format_axes (generic function with 1 method)"
      ]
     },
     "execution_count": 4,
     "metadata": {},
     "output_type": "execute_result"
    }
   ],
   "source": [
    "function format_axes(x)\n",
    "    axlist = (\n",
    "        Dim{:xC}(val(x.axes[1])),\n",
    "        Dim{:yC}(val(x.axes[2])),\n",
    "        Dim{:zC}(val(x.axes[3])),\n",
    "        Dim{:Ti}(val(x.axes[4]))\n",
    "    )\n",
    "    \n",
    "    return YAXArray(axlist, x)\n",
    "end"
   ]
  },
  {
   "cell_type": "code",
   "execution_count": 10,
   "id": "d53e5c95-5390-4599-9782-966a806e6802",
   "metadata": {},
   "outputs": [
    {
     "ename": "LoadError",
     "evalue": "ArgumentError: Chunk sizes must be strictly positive",
     "output_type": "error",
     "traceback": [
      "ArgumentError: Chunk sizes must be strictly positive",
      "",
      "Stacktrace:",
      "  [1] RegularChunks",
      "    @ ~/.julia/packages/DiskArrays/MpOpv/src/chunks.jl:26 [inlined]",
      "  [2] subsetchunks(r::DiskArrays.RegularChunks, subs::UnitRange{Int64})",
      "    @ DiskArrays ~/.julia/packages/DiskArrays/MpOpv/src/chunks.jl:50",
      "  [3] #110",
      "    @ ./none:0 [inlined]",
      "  [4] iterate",
      "    @ ./generator.jl:47 [inlined]",
      "  [5] grow_to!(dest::Vector{DiskArrays.RegularChunks}, itr::Base.Generator{Base.Iterators.Filter{DiskArrays.var\"#111#114\"{Tuple{}}, UnitRange{Int64}}, DiskArrays.var\"#110#113\"{DiskArrays.GridChunks{4, NTuple{4, DiskArrays.RegularChunks}}, Tuple{Base.Slice{Base.OneTo{Int64}}, Base.Slice{Base.OneTo{Int64}}, UnitRange{Int64}, Base.Slice{Base.OneTo{Int64}}}}}, st::Int64)",
      "    @ Base ./array.jl:938",
      "  [6] grow_to!(dest::Vector{DiskArrays.RegularChunks}, itr::Base.Generator{Base.Iterators.Filter{DiskArrays.var\"#111#114\"{Tuple{}}, UnitRange{Int64}}, DiskArrays.var\"#110#113\"{DiskArrays.GridChunks{4, NTuple{4, DiskArrays.RegularChunks}}, Tuple{Base.Slice{Base.OneTo{Int64}}, Base.Slice{Base.OneTo{Int64}}, UnitRange{Int64}, Base.Slice{Base.OneTo{Int64}}}}})",
      "    @ Base ./array.jl:911",
      "  [7] collect(itr::Base.Generator{Base.Iterators.Filter{DiskArrays.var\"#111#114\"{Tuple{}}, UnitRange{Int64}}, DiskArrays.var\"#110#113\"{DiskArrays.GridChunks{4, NTuple{4, DiskArrays.RegularChunks}}, Tuple{Base.Slice{Base.OneTo{Int64}}, Base.Slice{Base.OneTo{Int64}}, UnitRange{Int64}, Base.Slice{Base.OneTo{Int64}}}}})",
      "    @ Base ./array.jl:831",
      "  [8] eachchunk_view(::DiskArrays.Chunked{DiskArrays.ChunkRead{DiskArrays.NoStepRange}}, vv::SubArray{Float64, 4, YAXArrayBase.NetCDFVariable{Float64, 4}, Tuple{Base.Slice{Base.OneTo{Int64}}, Base.Slice{Base.OneTo{Int64}}, UnitRange{Int64}, Base.Slice{Base.OneTo{Int64}}}, false})",
      "    @ DiskArrays ~/.julia/packages/DiskArrays/MpOpv/src/subarray.jl:33",
      "  [9] eachchunk",
      "    @ ~/.julia/packages/DiskArrays/MpOpv/src/subarray.jl:25 [inlined]",
      " [10] rebuild",
      "    @ ~/.julia/packages/YAXArrays/zyFvF/src/Cubes/Cubes.jl:200 [inlined]",
      " [11] rebuild",
      "    @ ~/.julia/packages/DimensionalData/BZbYQ/src/array/array.jl:85 [inlined]",
      " [12] rebuildsliced",
      "    @ ~/.julia/packages/DimensionalData/BZbYQ/src/array/array.jl:100 [inlined]",
      " [13] rebuildsliced",
      "    @ ~/.julia/packages/DimensionalData/BZbYQ/src/array/array.jl:99 [inlined]",
      " [14] view",
      "    @ ~/.julia/packages/DimensionalData/BZbYQ/src/array/indexing.jl:125 [inlined]",
      " [15] _dim_view",
      "    @ ~/.julia/packages/DimensionalData/BZbYQ/src/array/indexing.jl:110 [inlined]",
      " [16] #view#110",
      "    @ ~/.julia/packages/DimensionalData/BZbYQ/src/array/indexing.jl:81 [inlined]",
      " [17] getindex(::YAXArray{Float64, 4, YAXArrayBase.NetCDFVariable{Float64, 4}, Tuple{Dim{:xC, DimensionalData.Dimensions.Lookups.Sampled{Float64, StepRangeLen{Float64, Base.TwicePrecision{Float64}, Base.TwicePrecision{Float64}, Int64}, DimensionalData.Dimensions.Lookups.ForwardOrdered, DimensionalData.Dimensions.Lookups.Regular{Float64}, DimensionalData.Dimensions.Lookups.Points, DimensionalData.Dimensions.Lookups.NoMetadata}}, Dim{:yC, DimensionalData.Dimensions.Lookups.Sampled{Float64, StepRangeLen{Float64, Base.TwicePrecision{Float64}, Base.TwicePrecision{Float64}, Int64}, DimensionalData.Dimensions.Lookups.ForwardOrdered, DimensionalData.Dimensions.Lookups.Regular{Float64}, DimensionalData.Dimensions.Lookups.Points, DimensionalData.Dimensions.Lookups.NoMetadata}}, Dim{:zF, DimensionalData.Dimensions.Lookups.Sampled{Float64, StepRangeLen{Float64, Base.TwicePrecision{Float64}, Base.TwicePrecision{Float64}, Int64}, DimensionalData.Dimensions.Lookups.ForwardOrdered, DimensionalData.Dimensions.Lookups.Regular{Float64}, DimensionalData.Dimensions.Lookups.Points, DimensionalData.Dimensions.Lookups.NoMetadata}}, Ti{DimensionalData.Dimensions.Lookups.Sampled{Float64, Vector{Float64}, DimensionalData.Dimensions.Lookups.ForwardOrdered, DimensionalData.Dimensions.Lookups.Irregular{Tuple{Nothing, Nothing}}, DimensionalData.Dimensions.Lookups.Points, DimensionalData.Dimensions.Lookups.NoMetadata}}}, Dict{String, Any}}; kwargs::@Kwargs{zF::UnitRange{Int64}})",
      "    @ YAXArrays.Cubes ~/.julia/packages/YAXArrays/zyFvF/src/Cubes/Cubes.jl:487",
      " [18] top-level scope",
      "    @ In[10]:3"
     ]
    }
   ],
   "source": [
    "u = format_axes(ds.u)\n",
    "v = format_axes(ds.v)\n",
    "w = format_axes(ds.w[zF = 2:-1])\n",
    "T = format_axes(ds.T)\n",
    "P = format_axes(ds.P)"
   ]
  },
  {
   "cell_type": "code",
   "execution_count": 6,
   "id": "2bf36d6e-095a-45a3-8779-fbd16e8c7109",
   "metadata": {},
   "outputs": [
    {
     "data": {
      "text/plain": [
       "to_prime (generic function with 1 method)"
      ]
     },
     "execution_count": 6,
     "metadata": {},
     "output_type": "execute_result"
    }
   ],
   "source": [
    "function to_bar(x)\n",
    "    return YAXArrays.mapslices(sum, x, dims=(x.axes[1], x.axes[2])) ./ (128*128)\n",
    "end\n",
    "\t\n",
    "function to_prime(x, x_bar)\n",
    "    return x .- reshape(x_bar, (1, 1, size(x_bar)...))\n",
    "end"
   ]
  },
  {
   "cell_type": "code",
   "execution_count": 7,
   "id": "4f5954da-b1a5-49b3-9a27-544ce30e8409",
   "metadata": {},
   "outputs": [
    {
     "name": "stdout",
     "output_type": "stream",
     "text": [
      "\"Running nonthreaded\" = \"Running nonthreaded\"\n",
      "\"Running nonthreaded\" = \"Running nonthreaded\"\n",
      "\"Running nonthreaded\" = \"Running nonthreaded\"\n"
     ]
    },
    {
     "name": "stderr",
     "output_type": "stream",
     "text": [
      "\u001b[32mProgress: 100%|█████████████████████████████████████████| Time: 0:00:05\u001b[39m\n"
     ]
    },
    {
     "name": "stdout",
     "output_type": "stream",
     "text": [
      "\"Running nonthreaded\" = \"Running nonthreaded\"\n",
      "\"Running nonthreaded\" = \"Running nonthreaded\"\n",
      "\"Running nonthreaded\" = \"Running nonthreaded\"\n"
     ]
    },
    {
     "name": "stderr",
     "output_type": "stream",
     "text": [
      "\u001b[32mProgress: 100%|█████████████████████████████████████████| Time: 0:00:08\u001b[39m\n"
     ]
    },
    {
     "name": "stdout",
     "output_type": "stream",
     "text": [
      "\"Running nonthreaded\" = \"Running nonthreaded\"\n",
      "\"Running nonthreaded\" = \"Running nonthreaded\"\n",
      "\"Running nonthreaded\" = \"Running nonthreaded\"\n"
     ]
    },
    {
     "name": "stderr",
     "output_type": "stream",
     "text": [
      "\u001b[32mProgress: 100%|█████████████████████████████████████████| Time: 0:00:01\u001b[39m\n"
     ]
    },
    {
     "name": "stdout",
     "output_type": "stream",
     "text": [
      "\"Running nonthreaded\" = \"Running nonthreaded\"\n",
      "\"Running nonthreaded\" = \"Running nonthreaded\"\n",
      "\"Running nonthreaded\" = \"Running nonthreaded\"\n"
     ]
    },
    {
     "name": "stderr",
     "output_type": "stream",
     "text": [
      "\u001b[32mProgress: 100%|█████████████████████████████████████████| Time: 0:00:08\u001b[39m\n"
     ]
    },
    {
     "name": "stdout",
     "output_type": "stream",
     "text": [
      "\"Running nonthreaded\" = \"Running nonthreaded\"\n",
      "\"Running nonthreaded\" = \"Running nonthreaded\"\n",
      "\"Running nonthreaded\" = \"Running nonthreaded\"\n"
     ]
    },
    {
     "name": "stderr",
     "output_type": "stream",
     "text": [
      "\u001b[32mProgress: 100%|█████████████████████████████████████████| Time: 0:00:09\u001b[39m\n"
     ]
    },
    {
     "data": {
      "text/plain": [
       "\u001b[90m╭────────────────────────────╮\u001b[39m\n",
       "\u001b[90m│ \u001b[39m\u001b[38;5;209m128\u001b[39m×\u001b[38;5;32m61\u001b[39m YAXArray{Float64,2}\u001b[90m │\u001b[39m\n",
       "\u001b[90m├────────────────────────────┴─────────────────────────────────────────── dims ┐\u001b[39m\n",
       "  \u001b[38;5;209m↓ \u001b[39m\u001b[38;5;209mzC\u001b[39m Sampled{Float64} \u001b[38;5;209m-127.5:1.0:-0.5\u001b[39m \u001b[38;5;244mForwardOrdered\u001b[39m \u001b[38;5;244mRegular\u001b[39m \u001b[38;5;244mPoints\u001b[39m,\n",
       "  \u001b[38;5;32m→ \u001b[39m\u001b[38;5;32mTi\u001b[39m Sampled{Float64} \u001b[38;5;32m[0.0, 60.0, …, 3540.0, 3600.0]\u001b[39m \u001b[38;5;244mForwardOrdered\u001b[39m \u001b[38;5;244mIrregular\u001b[39m \u001b[38;5;244mPoints\u001b[39m\n",
       "\u001b[90m├──────────────────────────────────────────────────────────────────── metadata ┤\u001b[39m\n",
       "  Dict{String, Any}()\n",
       "\u001b[90m├─────────────────────────────────────────────────────────────────── file size ┤\u001b[39m \n",
       "  file size: 61.0 KB\n",
       "\u001b[90m└──────────────────────────────────────────────────────────────────────────────┘\u001b[39m"
      ]
     },
     "execution_count": 7,
     "metadata": {},
     "output_type": "execute_result"
    }
   ],
   "source": [
    "u_bar = to_bar(u)\n",
    "v_bar = to_bar(v)\n",
    "w_bar = to_bar(w)\n",
    "T_bar = to_bar(T)\n",
    "P_bar = to_bar(P)"
   ]
  },
  {
   "cell_type": "code",
   "execution_count": 8,
   "id": "f177d0c5-c8f3-45ef-a468-9a1139331cc3",
   "metadata": {},
   "outputs": [
    {
     "data": {
      "text/plain": [
       "\u001b[90m╭────────────────────────────────────╮\u001b[39m\n",
       "\u001b[90m│ \u001b[39m\u001b[38;5;209m128\u001b[39m×\u001b[38;5;32m128\u001b[39m×\u001b[38;5;81m128\u001b[39m×\u001b[38;5;204m61\u001b[39m YAXArray{Float64,4}\u001b[90m │\u001b[39m\n",
       "\u001b[90m├────────────────────────────────────┴─────────────────────────────────── dims ┐\u001b[39m\n",
       "  \u001b[38;5;209m↓ \u001b[39m\u001b[38;5;209mxC\u001b[39m Sampled{Float64} \u001b[38;5;209m0.5:1.0:127.5\u001b[39m \u001b[38;5;244mForwardOrdered\u001b[39m \u001b[38;5;244mRegular\u001b[39m \u001b[38;5;244mPoints\u001b[39m,\n",
       "  \u001b[38;5;32m→ \u001b[39m\u001b[38;5;32myC\u001b[39m Sampled{Float64} \u001b[38;5;32m0.5:1.0:127.5\u001b[39m \u001b[38;5;244mForwardOrdered\u001b[39m \u001b[38;5;244mRegular\u001b[39m \u001b[38;5;244mPoints\u001b[39m,\n",
       "  \u001b[38;5;81m↗ \u001b[39m\u001b[38;5;81mzC\u001b[39m Sampled{Float64} \u001b[38;5;81m-127.5:1.0:-0.5\u001b[39m \u001b[38;5;244mForwardOrdered\u001b[39m \u001b[38;5;244mRegular\u001b[39m \u001b[38;5;244mPoints\u001b[39m,\n",
       "  \u001b[38;5;204m⬔ \u001b[39m\u001b[38;5;204mTi\u001b[39m Sampled{Float64} \u001b[38;5;204m[0.0, 60.0, …, 3540.0, 3600.0]\u001b[39m \u001b[38;5;244mForwardOrdered\u001b[39m \u001b[38;5;244mIrregular\u001b[39m \u001b[38;5;244mPoints\u001b[39m\n",
       "\u001b[90m├──────────────────────────────────────────────────────────────────── metadata ┤\u001b[39m\n",
       "  Dict{String, Any}()\n",
       "\u001b[90m├─────────────────────────────────────────────────────────────────── file size ┤\u001b[39m \n",
       "  file size: 976.0 MB\n",
       "\u001b[90m└──────────────────────────────────────────────────────────────────────────────┘\u001b[39m"
      ]
     },
     "execution_count": 8,
     "metadata": {},
     "output_type": "execute_result"
    }
   ],
   "source": [
    "u_prime = to_prime(u, u_bar)\n",
    "v_prime = to_prime(v, v_bar)\n",
    "w_prime = to_prime(w, w_bar)\n",
    "T_prime = to_prime(T, T_bar)\n",
    "P_prime = to_prime(P, P_bar)"
   ]
  },
  {
   "cell_type": "code",
   "execution_count": 9,
   "id": "3929f55a-53da-451f-8d84-f94d69f82485",
   "metadata": {},
   "outputs": [
    {
     "name": "stdout",
     "output_type": "stream",
     "text": [
      "\"Running nonthreaded\" = \"Running nonthreaded\"\n",
      "\"Running nonthreaded\" = \"Running nonthreaded\"\n",
      "\"Running nonthreaded\" = \"Running nonthreaded\"\n"
     ]
    },
    {
     "name": "stderr",
     "output_type": "stream",
     "text": [
      "\u001b[32mProgress: 100%|█████████████████████████████████████████| Time: 0:00:07\u001b[39m\n"
     ]
    },
    {
     "name": "stdout",
     "output_type": "stream",
     "text": [
      "\"Running nonthreaded\" = \"Running nonthreaded\"\n",
      "\"Running nonthreaded\" = \"Running nonthreaded\"\n",
      "\"Running nonthreaded\" = \"Running nonthreaded\"\n"
     ]
    },
    {
     "name": "stderr",
     "output_type": "stream",
     "text": [
      "\u001b[32mProgress: 100%|█████████████████████████████████████████| Time: 0:00:10\u001b[39m\n"
     ]
    },
    {
     "name": "stdout",
     "output_type": "stream",
     "text": [
      "\"Running nonthreaded\" = \"Running nonthreaded\"\n",
      "\"Running nonthreaded\" = \"Running nonthreaded\"\n",
      "\"Running nonthreaded\" = \"Running nonthreaded\"\n"
     ]
    },
    {
     "name": "stderr",
     "output_type": "stream",
     "text": [
      "\u001b[32mProgress: 100%|█████████████████████████████████████████| Time: 0:00:05\u001b[39m\n"
     ]
    },
    {
     "data": {
      "text/plain": [
       "\u001b[90m╭────────────────────────────╮\u001b[39m\n",
       "\u001b[90m│ \u001b[39m\u001b[38;5;209m128\u001b[39m×\u001b[38;5;32m61\u001b[39m YAXArray{Float64,2}\u001b[90m │\u001b[39m\n",
       "\u001b[90m├────────────────────────────┴─────────────────────────────────────────── dims ┐\u001b[39m\n",
       "  \u001b[38;5;209m↓ \u001b[39m\u001b[38;5;209mzC\u001b[39m Sampled{Float64} \u001b[38;5;209m-127.5:1.0:-0.5\u001b[39m \u001b[38;5;244mForwardOrdered\u001b[39m \u001b[38;5;244mRegular\u001b[39m \u001b[38;5;244mPoints\u001b[39m,\n",
       "  \u001b[38;5;32m→ \u001b[39m\u001b[38;5;32mTi\u001b[39m Sampled{Float64} \u001b[38;5;32m[0.0, 60.0, …, 3540.0, 3600.0]\u001b[39m \u001b[38;5;244mForwardOrdered\u001b[39m \u001b[38;5;244mIrregular\u001b[39m \u001b[38;5;244mPoints\u001b[39m\n",
       "\u001b[90m├──────────────────────────────────────────────────────────────────── metadata ┤\u001b[39m\n",
       "  Dict{String, Any}()\n",
       "\u001b[90m├─────────────────────────────────────────────────────────────────── file size ┤\u001b[39m \n",
       "  file size: 61.0 KB\n",
       "\u001b[90m└──────────────────────────────────────────────────────────────────────────────┘\u001b[39m"
      ]
     },
     "execution_count": 9,
     "metadata": {},
     "output_type": "execute_result"
    }
   ],
   "source": [
    "T_w_bar = to_bar(T_prime .* w_prime)\n",
    "u_w_bar = to_bar(u_prime .* w_prime)\n",
    "v_w_bar = to_bar(v_prime .* w_prime)"
   ]
  },
  {
   "cell_type": "code",
   "execution_count": 10,
   "id": "02d9ef4b-4304-46c5-a674-be51b21ebd6d",
   "metadata": {},
   "outputs": [
    {
     "name": "stdout",
     "output_type": "stream",
     "text": [
      "\"Running nonthreaded\" = \"Running nonthreaded\"\n",
      "\"Running nonthreaded\" = \"Running nonthreaded\"\n",
      "\"Running nonthreaded\" = \"Running nonthreaded\"\n"
     ]
    },
    {
     "name": "stderr",
     "output_type": "stream",
     "text": [
      "\u001b[32mProgress: 100%|█████████████████████████████████████████| Time: 0:00:11\u001b[39m\n"
     ]
    },
    {
     "name": "stdout",
     "output_type": "stream",
     "text": [
      "\"Running nonthreaded\" = \"Running nonthreaded\"\n",
      "\"Running nonthreaded\" = \"Running nonthreaded\"\n",
      "\"Running nonthreaded\" = \"Running nonthreaded\"\n"
     ]
    },
    {
     "name": "stderr",
     "output_type": "stream",
     "text": [
      "\u001b[32mProgress: 100%|█████████████████████████████████████████| Time: 0:00:04\u001b[39m\n"
     ]
    },
    {
     "name": "stdout",
     "output_type": "stream",
     "text": [
      "\"Running nonthreaded\" = \"Running nonthreaded\"\n",
      "\"Running nonthreaded\" = \"Running nonthreaded\"\n",
      "\"Running nonthreaded\" = \"Running nonthreaded\"\n"
     ]
    },
    {
     "name": "stderr",
     "output_type": "stream",
     "text": [
      "\u001b[32mProgress: 100%|█████████████████████████████████████████| Time: 0:00:01\u001b[39m\n"
     ]
    },
    {
     "data": {
      "text/plain": [
       "\u001b[90m╭────────────────────────────╮\u001b[39m\n",
       "\u001b[90m│ \u001b[39m\u001b[38;5;209m128\u001b[39m×\u001b[38;5;32m61\u001b[39m YAXArray{Float64,2}\u001b[90m │\u001b[39m\n",
       "\u001b[90m├────────────────────────────┴─────────────────────────────────────────── dims ┐\u001b[39m\n",
       "  \u001b[38;5;209m↓ \u001b[39m\u001b[38;5;209mzC\u001b[39m Sampled{Float64} \u001b[38;5;209m-127.5:1.0:-0.5\u001b[39m \u001b[38;5;244mForwardOrdered\u001b[39m \u001b[38;5;244mRegular\u001b[39m \u001b[38;5;244mPoints\u001b[39m,\n",
       "  \u001b[38;5;32m→ \u001b[39m\u001b[38;5;32mTi\u001b[39m Sampled{Float64} \u001b[38;5;32m[0.0, 60.0, …, 3540.0, 3600.0]\u001b[39m \u001b[38;5;244mForwardOrdered\u001b[39m \u001b[38;5;244mIrregular\u001b[39m \u001b[38;5;244mPoints\u001b[39m\n",
       "\u001b[90m├──────────────────────────────────────────────────────────────────── metadata ┤\u001b[39m\n",
       "  Dict{String, Any}()\n",
       "\u001b[90m├─────────────────────────────────────────────────────────────────── file size ┤\u001b[39m \n",
       "  file size: 61.0 KB\n",
       "\u001b[90m└──────────────────────────────────────────────────────────────────────────────┘\u001b[39m"
      ]
     },
     "execution_count": 10,
     "metadata": {},
     "output_type": "execute_result"
    }
   ],
   "source": [
    "energy = (to_bar(u_prime .^ 2) .+ to_bar(v_prime .^ 2) .+ to_bar(w_prime .^ 2)) .* 0.5"
   ]
  },
  {
   "cell_type": "code",
   "execution_count": 11,
   "id": "0b601806-1716-43d0-b39b-a300df334763",
   "metadata": {},
   "outputs": [
    {
     "name": "stdout",
     "output_type": "stream",
     "text": [
      "\"Running nonthreaded\" = \"Running nonthreaded\"\n",
      "\"Running nonthreaded\" = \"Running nonthreaded\"\n",
      "\"Running nonthreaded\" = \"Running nonthreaded\"\n"
     ]
    },
    {
     "name": "stderr",
     "output_type": "stream",
     "text": [
      "\u001b[32mProgress: 100%|█████████████████████████████████████████| Time: 0:00:13\u001b[39m\n"
     ]
    },
    {
     "name": "stdout",
     "output_type": "stream",
     "text": [
      "\"Running nonthreaded\" = \"Running nonthreaded\"\n",
      "\"Running nonthreaded\" = \"Running nonthreaded\"\n",
      "\"Running nonthreaded\" = \"Running nonthreaded\"\n"
     ]
    },
    {
     "name": "stderr",
     "output_type": "stream",
     "text": [
      "\u001b[32mProgress: 100%|█████████████████████████████████████████| Time: 0:00:05\u001b[39m\n"
     ]
    },
    {
     "name": "stdout",
     "output_type": "stream",
     "text": [
      "\"Running nonthreaded\" = \"Running nonthreaded\"\n",
      "\"Running nonthreaded\" = \"Running nonthreaded\"\n",
      "\"Running nonthreaded\" = \"Running nonthreaded\"\n"
     ]
    },
    {
     "name": "stderr",
     "output_type": "stream",
     "text": [
      "\u001b[32mProgress: 100%|█████████████████████████████████████████| Time: 0:00:04\u001b[39m\n"
     ]
    },
    {
     "data": {
      "text/plain": [
       "\u001b[90m╭────────────────────────────╮\u001b[39m\n",
       "\u001b[90m│ \u001b[39m\u001b[38;5;209m128\u001b[39m×\u001b[38;5;32m61\u001b[39m YAXArray{Float64,2}\u001b[90m │\u001b[39m\n",
       "\u001b[90m├────────────────────────────┴─────────────────────────────────────────── dims ┐\u001b[39m\n",
       "  \u001b[38;5;209m↓ \u001b[39m\u001b[38;5;209mzC\u001b[39m Sampled{Float64} \u001b[38;5;209m-127.0:1.0:0.0\u001b[39m \u001b[38;5;244mForwardOrdered\u001b[39m \u001b[38;5;244mRegular\u001b[39m \u001b[38;5;244mPoints\u001b[39m,\n",
       "  \u001b[38;5;32m→ \u001b[39m\u001b[38;5;32mTi\u001b[39m Sampled{Float64} \u001b[38;5;32m[0.0, 60.0, …, 3540.0, 3600.0]\u001b[39m \u001b[38;5;244mForwardOrdered\u001b[39m \u001b[38;5;244mIrregular\u001b[39m \u001b[38;5;244mPoints\u001b[39m\n",
       "\u001b[90m├──────────────────────────────────────────────────────────────────── metadata ┤\u001b[39m\n",
       "  Dict{String, Any}()\n",
       "\u001b[90m├─────────────────────────────────────────────────────────────────── file size ┤\u001b[39m \n",
       "  file size: 61.0 KB\n",
       "\u001b[90m└──────────────────────────────────────────────────────────────────────────────┘\u001b[39m"
      ]
     },
     "execution_count": 11,
     "metadata": {},
     "output_type": "execute_result"
    }
   ],
   "source": [
    "u_P_bar = to_bar(u_prime .* P_prime)\n",
    "v_P_bar = to_bar(v_prime .* P_prime)\n",
    "w_P_bar = to_bar(w_prime .* P_prime)"
   ]
  },
  {
   "cell_type": "code",
   "execution_count": 26,
   "id": "5b8d1518-5207-4b62-844b-afb61b2fc7c1",
   "metadata": {},
   "outputs": [
    {
     "data": {
      "text/plain": [
       "\u001b[90m╭────────────────────────────╮\u001b[39m\n",
       "\u001b[90m│ \u001b[39m\u001b[38;5;209m128\u001b[39m×\u001b[38;5;32m61\u001b[39m YAXArray{Float64,2}\u001b[90m │\u001b[39m\n",
       "\u001b[90m├────────────────────────────┴─────────────────────────────────────────── dims ┐\u001b[39m\n",
       "  \u001b[38;5;209m↓ \u001b[39m\u001b[38;5;209mzC\u001b[39m Sampled{Float64} \u001b[38;5;209m-127.5:1.0:-0.5\u001b[39m \u001b[38;5;244mForwardOrdered\u001b[39m \u001b[38;5;244mRegular\u001b[39m \u001b[38;5;244mPoints\u001b[39m,\n",
       "  \u001b[38;5;32m→ \u001b[39m\u001b[38;5;32mTi\u001b[39m Sampled{Float64} \u001b[38;5;32m[0.0, 60.0, …, 3540.0, 3600.0]\u001b[39m \u001b[38;5;244mForwardOrdered\u001b[39m \u001b[38;5;244mIrregular\u001b[39m \u001b[38;5;244mPoints\u001b[39m\n",
       "\u001b[90m├──────────────────────────────────────────────────────────────────── metadata ┤\u001b[39m\n",
       "  Dict{String, Any}()\n",
       "\u001b[90m├─────────────────────────────────────────────────────────────────── file size ┤\u001b[39m \n",
       "  file size: 61.0 KB\n",
       "\u001b[90m└──────────────────────────────────────────────────────────────────────────────┘\u001b[39m"
      ]
     },
     "execution_count": 26,
     "metadata": {},
     "output_type": "execute_result"
    }
   ],
   "source": [
    "v_w_bar .* 23 .+ 5"
   ]
  },
  {
   "cell_type": "code",
   "execution_count": 23,
   "id": "6ce32327-ca9f-4576-9588-edd53ad9b52d",
   "metadata": {
    "scrolled": true
   },
   "outputs": [
    {
     "name": "stdout",
     "output_type": "stream",
     "text": [
      "mean.(u, dims(\"xC\")) = 128×128×128×61 DiskArrays.BroadcastDiskArray{Union{}, 4, Base.Broadcast.Broadcasted{DiskArrays.ChunkStyle{4}, Nothing, typeof(mean), Tuple{YAXArrayBase.NetCDFVariable{Float64, 4}, Base.RefValue{Nothing}}}}\n"
     ]
    },
    {
     "ename": "ErrorException",
     "evalue": "The empty type does not have a definite size since it does not have instances.",
     "output_type": "error",
     "traceback": [
      "The empty type does not have a definite size since it does not have instances.",
      "",
      "Stacktrace:",
      "  [1] sizeof(x::Type)",
      "    @ Base ./essentials.jl:631",
      "  [2] cubesize(c::YAXArray{Union{}, 4, DiskArrays.BroadcastDiskArray{Union{}, 4, Base.Broadcast.Broadcasted{DiskArrays.ChunkStyle{4}, Nothing, typeof(mean), Tuple{YAXArrayBase.NetCDFVariable{Float64, 4}, Base.RefValue{Nothing}}}}, Tuple{Dim{:xC, DimensionalData.Dimensions.Lookups.Sampled{Float64, StepRangeLen{Float64, Base.TwicePrecision{Float64}, Base.TwicePrecision{Float64}, Int64}, DimensionalData.Dimensions.Lookups.ForwardOrdered, DimensionalData.Dimensions.Lookups.Regular{Float64}, DimensionalData.Dimensions.Lookups.Points, DimensionalData.Dimensions.Lookups.NoMetadata}}, Dim{:yC, DimensionalData.Dimensions.Lookups.Sampled{Float64, StepRangeLen{Float64, Base.TwicePrecision{Float64}, Base.TwicePrecision{Float64}, Int64}, DimensionalData.Dimensions.Lookups.ForwardOrdered, DimensionalData.Dimensions.Lookups.Regular{Float64}, DimensionalData.Dimensions.Lookups.Points, DimensionalData.Dimensions.Lookups.NoMetadata}}, Dim{:zC, DimensionalData.Dimensions.Lookups.Sampled{Float64, StepRangeLen{Float64, Base.TwicePrecision{Float64}, Base.TwicePrecision{Float64}, Int64}, DimensionalData.Dimensions.Lookups.ForwardOrdered, DimensionalData.Dimensions.Lookups.Regular{Float64}, DimensionalData.Dimensions.Lookups.Points, DimensionalData.Dimensions.Lookups.NoMetadata}}, Dim{:Ti, DimensionalData.Dimensions.Lookups.Sampled{Float64, Vector{Float64}, DimensionalData.Dimensions.Lookups.ForwardOrdered, DimensionalData.Dimensions.Lookups.Irregular{Tuple{Nothing, Nothing}}, DimensionalData.Dimensions.Lookups.Points, DimensionalData.Dimensions.Lookups.NoMetadata}}}, Dict{String, Any}})",
      "    @ YAXArrays.Cubes ~/.julia/packages/YAXArrays/zyFvF/src/Cubes/Cubes.jl:501",
      "  [3] show_after(io::IOContext{IOBuffer}, mime::MIME{Symbol(\"text/plain\")}, c::YAXArray{Union{}, 4, DiskArrays.BroadcastDiskArray{Union{}, 4, Base.Broadcast.Broadcasted{DiskArrays.ChunkStyle{4}, Nothing, typeof(mean), Tuple{YAXArrayBase.NetCDFVariable{Float64, 4}, Base.RefValue{Nothing}}}}, Tuple{Dim{:xC, DimensionalData.Dimensions.Lookups.Sampled{Float64, StepRangeLen{Float64, Base.TwicePrecision{Float64}, Base.TwicePrecision{Float64}, Int64}, DimensionalData.Dimensions.Lookups.ForwardOrdered, DimensionalData.Dimensions.Lookups.Regular{Float64}, DimensionalData.Dimensions.Lookups.Points, DimensionalData.Dimensions.Lookups.NoMetadata}}, Dim{:yC, DimensionalData.Dimensions.Lookups.Sampled{Float64, StepRangeLen{Float64, Base.TwicePrecision{Float64}, Base.TwicePrecision{Float64}, Int64}, DimensionalData.Dimensions.Lookups.ForwardOrdered, DimensionalData.Dimensions.Lookups.Regular{Float64}, DimensionalData.Dimensions.Lookups.Points, DimensionalData.Dimensions.Lookups.NoMetadata}}, Dim{:zC, DimensionalData.Dimensions.Lookups.Sampled{Float64, StepRangeLen{Float64, Base.TwicePrecision{Float64}, Base.TwicePrecision{Float64}, Int64}, DimensionalData.Dimensions.Lookups.ForwardOrdered, DimensionalData.Dimensions.Lookups.Regular{Float64}, DimensionalData.Dimensions.Lookups.Points, DimensionalData.Dimensions.Lookups.NoMetadata}}, Dim{:Ti, DimensionalData.Dimensions.Lookups.Sampled{Float64, Vector{Float64}, DimensionalData.Dimensions.Lookups.ForwardOrdered, DimensionalData.Dimensions.Lookups.Irregular{Tuple{Nothing, Nothing}}, DimensionalData.Dimensions.Lookups.Points, DimensionalData.Dimensions.Lookups.NoMetadata}}}, Dict{String, Any}})",
      "    @ YAXArrays.Cubes ~/.julia/packages/YAXArrays/zyFvF/src/Cubes/Cubes.jl:512",
      "  [4] show(io::IOContext{IOBuffer}, mime::MIME{Symbol(\"text/plain\")}, A::YAXArray{Union{}, 4, DiskArrays.BroadcastDiskArray{Union{}, 4, Base.Broadcast.Broadcasted{DiskArrays.ChunkStyle{4}, Nothing, typeof(mean), Tuple{YAXArrayBase.NetCDFVariable{Float64, 4}, Base.RefValue{Nothing}}}}, Tuple{Dim{:xC, DimensionalData.Dimensions.Lookups.Sampled{Float64, StepRangeLen{Float64, Base.TwicePrecision{Float64}, Base.TwicePrecision{Float64}, Int64}, DimensionalData.Dimensions.Lookups.ForwardOrdered, DimensionalData.Dimensions.Lookups.Regular{Float64}, DimensionalData.Dimensions.Lookups.Points, DimensionalData.Dimensions.Lookups.NoMetadata}}, Dim{:yC, DimensionalData.Dimensions.Lookups.Sampled{Float64, StepRangeLen{Float64, Base.TwicePrecision{Float64}, Base.TwicePrecision{Float64}, Int64}, DimensionalData.Dimensions.Lookups.ForwardOrdered, DimensionalData.Dimensions.Lookups.Regular{Float64}, DimensionalData.Dimensions.Lookups.Points, DimensionalData.Dimensions.Lookups.NoMetadata}}, Dim{:zC, DimensionalData.Dimensions.Lookups.Sampled{Float64, StepRangeLen{Float64, Base.TwicePrecision{Float64}, Base.TwicePrecision{Float64}, Int64}, DimensionalData.Dimensions.Lookups.ForwardOrdered, DimensionalData.Dimensions.Lookups.Regular{Float64}, DimensionalData.Dimensions.Lookups.Points, DimensionalData.Dimensions.Lookups.NoMetadata}}, Dim{:Ti, DimensionalData.Dimensions.Lookups.Sampled{Float64, Vector{Float64}, DimensionalData.Dimensions.Lookups.ForwardOrdered, DimensionalData.Dimensions.Lookups.Irregular{Tuple{Nothing, Nothing}}, DimensionalData.Dimensions.Lookups.Points, DimensionalData.Dimensions.Lookups.NoMetadata}}}, Dict{String, Any}})",
      "    @ DimensionalData ~/.julia/packages/DimensionalData/BZbYQ/src/array/show.jl:17",
      "  [5] limitstringmime(mime::MIME{Symbol(\"text/plain\")}, x::YAXArray{Union{}, 4, DiskArrays.BroadcastDiskArray{Union{}, 4, Base.Broadcast.Broadcasted{DiskArrays.ChunkStyle{4}, Nothing, typeof(mean), Tuple{YAXArrayBase.NetCDFVariable{Float64, 4}, Base.RefValue{Nothing}}}}, Tuple{Dim{:xC, DimensionalData.Dimensions.Lookups.Sampled{Float64, StepRangeLen{Float64, Base.TwicePrecision{Float64}, Base.TwicePrecision{Float64}, Int64}, DimensionalData.Dimensions.Lookups.ForwardOrdered, DimensionalData.Dimensions.Lookups.Regular{Float64}, DimensionalData.Dimensions.Lookups.Points, DimensionalData.Dimensions.Lookups.NoMetadata}}, Dim{:yC, DimensionalData.Dimensions.Lookups.Sampled{Float64, StepRangeLen{Float64, Base.TwicePrecision{Float64}, Base.TwicePrecision{Float64}, Int64}, DimensionalData.Dimensions.Lookups.ForwardOrdered, DimensionalData.Dimensions.Lookups.Regular{Float64}, DimensionalData.Dimensions.Lookups.Points, DimensionalData.Dimensions.Lookups.NoMetadata}}, Dim{:zC, DimensionalData.Dimensions.Lookups.Sampled{Float64, StepRangeLen{Float64, Base.TwicePrecision{Float64}, Base.TwicePrecision{Float64}, Int64}, DimensionalData.Dimensions.Lookups.ForwardOrdered, DimensionalData.Dimensions.Lookups.Regular{Float64}, DimensionalData.Dimensions.Lookups.Points, DimensionalData.Dimensions.Lookups.NoMetadata}}, Dim{:Ti, DimensionalData.Dimensions.Lookups.Sampled{Float64, Vector{Float64}, DimensionalData.Dimensions.Lookups.ForwardOrdered, DimensionalData.Dimensions.Lookups.Irregular{Tuple{Nothing, Nothing}}, DimensionalData.Dimensions.Lookups.Points, DimensionalData.Dimensions.Lookups.NoMetadata}}}, Dict{String, Any}}, forcetext::Bool)",
      "    @ IJulia ~/.julia/packages/IJulia/bHdNn/src/inline.jl:43",
      "  [6] limitstringmime(mime::MIME{Symbol(\"text/plain\")}, x::YAXArray{Union{}, 4, DiskArrays.BroadcastDiskArray{Union{}, 4, Base.Broadcast.Broadcasted{DiskArrays.ChunkStyle{4}, Nothing, typeof(mean), Tuple{YAXArrayBase.NetCDFVariable{Float64, 4}, Base.RefValue{Nothing}}}}, Tuple{Dim{:xC, DimensionalData.Dimensions.Lookups.Sampled{Float64, StepRangeLen{Float64, Base.TwicePrecision{Float64}, Base.TwicePrecision{Float64}, Int64}, DimensionalData.Dimensions.Lookups.ForwardOrdered, DimensionalData.Dimensions.Lookups.Regular{Float64}, DimensionalData.Dimensions.Lookups.Points, DimensionalData.Dimensions.Lookups.NoMetadata}}, Dim{:yC, DimensionalData.Dimensions.Lookups.Sampled{Float64, StepRangeLen{Float64, Base.TwicePrecision{Float64}, Base.TwicePrecision{Float64}, Int64}, DimensionalData.Dimensions.Lookups.ForwardOrdered, DimensionalData.Dimensions.Lookups.Regular{Float64}, DimensionalData.Dimensions.Lookups.Points, DimensionalData.Dimensions.Lookups.NoMetadata}}, Dim{:zC, DimensionalData.Dimensions.Lookups.Sampled{Float64, StepRangeLen{Float64, Base.TwicePrecision{Float64}, Base.TwicePrecision{Float64}, Int64}, DimensionalData.Dimensions.Lookups.ForwardOrdered, DimensionalData.Dimensions.Lookups.Regular{Float64}, DimensionalData.Dimensions.Lookups.Points, DimensionalData.Dimensions.Lookups.NoMetadata}}, Dim{:Ti, DimensionalData.Dimensions.Lookups.Sampled{Float64, Vector{Float64}, DimensionalData.Dimensions.Lookups.ForwardOrdered, DimensionalData.Dimensions.Lookups.Irregular{Tuple{Nothing, Nothing}}, DimensionalData.Dimensions.Lookups.Points, DimensionalData.Dimensions.Lookups.NoMetadata}}}, Dict{String, Any}})",
      "    @ IJulia ~/.julia/packages/IJulia/bHdNn/src/inline.jl:38",
      "  [7] display_mimestring(m::MIME{Symbol(\"text/plain\")}, x::YAXArray{Union{}, 4, DiskArrays.BroadcastDiskArray{Union{}, 4, Base.Broadcast.Broadcasted{DiskArrays.ChunkStyle{4}, Nothing, typeof(mean), Tuple{YAXArrayBase.NetCDFVariable{Float64, 4}, Base.RefValue{Nothing}}}}, Tuple{Dim{:xC, DimensionalData.Dimensions.Lookups.Sampled{Float64, StepRangeLen{Float64, Base.TwicePrecision{Float64}, Base.TwicePrecision{Float64}, Int64}, DimensionalData.Dimensions.Lookups.ForwardOrdered, DimensionalData.Dimensions.Lookups.Regular{Float64}, DimensionalData.Dimensions.Lookups.Points, DimensionalData.Dimensions.Lookups.NoMetadata}}, Dim{:yC, DimensionalData.Dimensions.Lookups.Sampled{Float64, StepRangeLen{Float64, Base.TwicePrecision{Float64}, Base.TwicePrecision{Float64}, Int64}, DimensionalData.Dimensions.Lookups.ForwardOrdered, DimensionalData.Dimensions.Lookups.Regular{Float64}, DimensionalData.Dimensions.Lookups.Points, DimensionalData.Dimensions.Lookups.NoMetadata}}, Dim{:zC, DimensionalData.Dimensions.Lookups.Sampled{Float64, StepRangeLen{Float64, Base.TwicePrecision{Float64}, Base.TwicePrecision{Float64}, Int64}, DimensionalData.Dimensions.Lookups.ForwardOrdered, DimensionalData.Dimensions.Lookups.Regular{Float64}, DimensionalData.Dimensions.Lookups.Points, DimensionalData.Dimensions.Lookups.NoMetadata}}, Dim{:Ti, DimensionalData.Dimensions.Lookups.Sampled{Float64, Vector{Float64}, DimensionalData.Dimensions.Lookups.ForwardOrdered, DimensionalData.Dimensions.Lookups.Irregular{Tuple{Nothing, Nothing}}, DimensionalData.Dimensions.Lookups.Points, DimensionalData.Dimensions.Lookups.NoMetadata}}}, Dict{String, Any}})",
      "    @ IJulia ~/.julia/packages/IJulia/bHdNn/src/display.jl:71",
      "  [8] display_dict(x::YAXArray{Union{}, 4, DiskArrays.BroadcastDiskArray{Union{}, 4, Base.Broadcast.Broadcasted{DiskArrays.ChunkStyle{4}, Nothing, typeof(mean), Tuple{YAXArrayBase.NetCDFVariable{Float64, 4}, Base.RefValue{Nothing}}}}, Tuple{Dim{:xC, DimensionalData.Dimensions.Lookups.Sampled{Float64, StepRangeLen{Float64, Base.TwicePrecision{Float64}, Base.TwicePrecision{Float64}, Int64}, DimensionalData.Dimensions.Lookups.ForwardOrdered, DimensionalData.Dimensions.Lookups.Regular{Float64}, DimensionalData.Dimensions.Lookups.Points, DimensionalData.Dimensions.Lookups.NoMetadata}}, Dim{:yC, DimensionalData.Dimensions.Lookups.Sampled{Float64, StepRangeLen{Float64, Base.TwicePrecision{Float64}, Base.TwicePrecision{Float64}, Int64}, DimensionalData.Dimensions.Lookups.ForwardOrdered, DimensionalData.Dimensions.Lookups.Regular{Float64}, DimensionalData.Dimensions.Lookups.Points, DimensionalData.Dimensions.Lookups.NoMetadata}}, Dim{:zC, DimensionalData.Dimensions.Lookups.Sampled{Float64, StepRangeLen{Float64, Base.TwicePrecision{Float64}, Base.TwicePrecision{Float64}, Int64}, DimensionalData.Dimensions.Lookups.ForwardOrdered, DimensionalData.Dimensions.Lookups.Regular{Float64}, DimensionalData.Dimensions.Lookups.Points, DimensionalData.Dimensions.Lookups.NoMetadata}}, Dim{:Ti, DimensionalData.Dimensions.Lookups.Sampled{Float64, Vector{Float64}, DimensionalData.Dimensions.Lookups.ForwardOrdered, DimensionalData.Dimensions.Lookups.Irregular{Tuple{Nothing, Nothing}}, DimensionalData.Dimensions.Lookups.Points, DimensionalData.Dimensions.Lookups.NoMetadata}}}, Dict{String, Any}})",
      "    @ IJulia ~/.julia/packages/IJulia/bHdNn/src/display.jl:102",
      "  [9] #invokelatest#2",
      "    @ ./essentials.jl:892 [inlined]",
      " [10] invokelatest",
      "    @ ./essentials.jl:889 [inlined]",
      " [11] execute_request(socket::ZMQ.Socket, msg::IJulia.Msg)",
      "    @ IJulia ~/.julia/packages/IJulia/bHdNn/src/execute_request.jl:112",
      " [12] #invokelatest#2",
      "    @ ./essentials.jl:892 [inlined]",
      " [13] invokelatest",
      "    @ ./essentials.jl:889 [inlined]",
      " [14] eventloop(socket::ZMQ.Socket)",
      "    @ IJulia ~/.julia/packages/IJulia/bHdNn/src/eventloop.jl:8",
      " [15] (::IJulia.var\"#15#18\")()",
      "    @ IJulia ~/.julia/packages/IJulia/bHdNn/src/eventloop.jl:38"
     ]
    }
   ],
   "source": [
    "@show mean.(u, dims(\"xC\"))"
   ]
  },
  {
   "cell_type": "code",
   "execution_count": 4,
   "id": "26662e0e-17ec-4595-b6ee-9f4bea02fbbf",
   "metadata": {},
   "outputs": [
    {
     "data": {
      "text/plain": [
       "(128, 128, 128, 61)"
      ]
     },
     "execution_count": 4,
     "metadata": {},
     "output_type": "execute_result"
    }
   ],
   "source": [
    "size(ds.u)"
   ]
  },
  {
   "cell_type": "code",
   "execution_count": 7,
   "id": "1b769e56-7a97-4364-a69c-5cd65f1f22c7",
   "metadata": {},
   "outputs": [
    {
     "data": {
      "text/plain": [
       "\u001b[90m╭─────────────────────────────────╮\u001b[39m\n",
       "\u001b[90m│ \u001b[39m\u001b[38;5;209m128\u001b[39m×\u001b[38;5;32m128\u001b[39m×\u001b[38;5;81m128\u001b[39m YAXArray{Float64,3}\u001b[90m │\u001b[39m\n",
       "\u001b[90m├─────────────────────────────────┴───────────────────────────── dims ┐\u001b[39m\n",
       "  \u001b[38;5;209m↓ \u001b[39m\u001b[38;5;209mxF\u001b[39m Sampled{Float64} \u001b[38;5;209m0.0:1.0:127.0\u001b[39m \u001b[38;5;244mForwardOrdered\u001b[39m \u001b[38;5;244mRegular\u001b[39m \u001b[38;5;244mPoints\u001b[39m,\n",
       "  \u001b[38;5;32m→ \u001b[39m\u001b[38;5;32myC\u001b[39m Sampled{Float64} \u001b[38;5;32m0.5:1.0:127.5\u001b[39m \u001b[38;5;244mForwardOrdered\u001b[39m \u001b[38;5;244mRegular\u001b[39m \u001b[38;5;244mPoints\u001b[39m,\n",
       "  \u001b[38;5;81m↗ \u001b[39m\u001b[38;5;81mzC\u001b[39m Sampled{Float64} \u001b[38;5;81m-127.5:1.0:-0.5\u001b[39m \u001b[38;5;244mForwardOrdered\u001b[39m \u001b[38;5;244mRegular\u001b[39m \u001b[38;5;244mPoints\u001b[39m\n",
       "\u001b[90m├─────────────────────────────────────────────────────────── metadata ┤\u001b[39m\n",
       "  Dict{String, Any} with 3 entries:\n",
       "  \"units\"     => \"m/s\"\n",
       "  \"name\"      => \"u\"\n",
       "  \"long_name\" => \"Velocity in the x-direction\"\n",
       "\u001b[90m├────────────────────────────────────────────────────────── file size ┤\u001b[39m \n",
       "  file size: 16.0 MB\n",
       "\u001b[90m└─────────────────────────────────────────────────────────────────────┘\u001b[39m"
      ]
     },
     "execution_count": 7,
     "metadata": {},
     "output_type": "execute_result"
    }
   ],
   "source": [
    "ds.u[Ti = 5]"
   ]
  },
  {
   "cell_type": "code",
   "execution_count": null,
   "id": "5a0eafa5-d6b4-408f-91e9-73d8f8dac863",
   "metadata": {},
   "outputs": [],
   "source": []
  }
 ],
 "metadata": {
  "kernelspec": {
   "display_name": "Julia 1.10.4",
   "language": "julia",
   "name": "julia-1.10"
  },
  "language_info": {
   "file_extension": ".jl",
   "mimetype": "application/julia",
   "name": "julia",
   "version": "1.10.4"
  }
 },
 "nbformat": 4,
 "nbformat_minor": 5
}
